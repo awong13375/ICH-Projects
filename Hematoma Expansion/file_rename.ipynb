{
 "cells": [
  {
   "cell_type": "code",
   "execution_count": 63,
   "metadata": {
    "tags": []
   },
   "outputs": [
    {
     "output_type": "stream",
     "name": "stdout",
     "text": "Collecting json\nNote: you may need to restart the kernel to use updated packages.\n  ERROR: Could not find a version that satisfies the requirement json (from versions: none)\nERROR: No matching distribution found for json\n"
    }
   ],
   "source": [
    "pip install json"
   ]
  },
  {
   "cell_type": "code",
   "execution_count": 67,
   "metadata": {},
   "outputs": [],
   "source": [
    "from collections import OrderedDict\n",
    "import shutil\n",
    "import json"
   ]
  },
  {
   "cell_type": "code",
   "execution_count": 68,
   "metadata": {
    "tags": []
   },
   "outputs": [
    {
     "output_type": "stream",
     "name": "stdout",
     "text": "['PREDICT-01-001_0000.nii.gz', 'PREDICT-01-005_0000.nii.gz', 'PREDICT-01-009_0000.nii.gz', 'PREDICT-01-023_0000.nii.gz', 'PREDICT-01-025_0000.nii.gz', 'PREDICT-01-027_0000.nii.gz', 'PREDICT-01-030_0000.nii.gz', 'PREDICT-01-035_0000.nii.gz', 'PREDICT-01-037_0000.nii.gz', 'PREDICT-01-041_0000.nii.gz', 'PREDICT-01-046_0000.nii.gz', 'PREDICT-01-047_0000.nii.gz', 'PREDICT-01-049_0000.nii.gz', 'PREDICT-01-050_0000.nii.gz', 'PREDICT-01-053_0000.nii.gz', 'PREDICT-01-056_0000.nii.gz', 'PREDICT-01-060_0000.nii.gz', 'PREDICT-01-069_0000.nii.gz', 'PREDICT-01-071_0000.nii.gz', 'PREDICT-01-072_0000.nii.gz', 'PREDICT-01-083_0000.nii.gz', 'PREDICT-01-085_0000.nii.gz', 'PREDICT-01-086_0000.nii.gz', 'PREDICT-01-087_0000.nii.gz', 'PREDICT-01-091_0000.nii.gz', 'PREDICT-01-092_0000.nii.gz', 'PREDICT-01-093_0000.nii.gz', 'PREDICT-01-096_0000.nii.gz', 'PREDICT-04-002_0000.nii.gz', 'PREDICT-04-007_0000.nii.gz', 'PREDICT-04-012_0000.nii.gz', 'PREDICT-04-023_0000.nii.gz', 'PREDICT-04-024_0000.nii.gz', 'PREDICT-04-027_0000.nii.gz', 'PREDICT-04-028_0000.nii.gz', 'PREDICT-04-029_0000.nii.gz', 'PREDICT-05-001_0000.nii.gz', 'PREDICT-05-004_0000.nii.gz', 'PREDICT-05-006_0000.nii.gz', 'PREDICT-05-010_0000.nii.gz', 'PREDICT-05-016_0000.nii.gz', 'PREDICT-05-020_0000.nii.gz', 'PREDICT-05-021_0000.nii.gz', 'PREDICT-05-023_0000.nii.gz', 'PREDICT-05-025_0000.nii.gz', 'PREDICT-05-026_0000.nii.gz', 'PREDICT-05-028_0000.nii.gz', 'PREDICT-05-029_0000.nii.gz', 'PREDICT-05-035_0000.nii.gz', 'PREDICT-05-038_0000.nii.gz', 'PREDICT-05-039_0000.nii.gz', 'PREDICT-05-045_0000.nii.gz', 'PREDICT-05-047_0000.nii.gz', 'PREDICT-05-055_0000.nii.gz', 'PREDICT-05-059_0000.nii.gz', 'PREDICT-05-065_0000.nii.gz', 'PREDICT-05-068_0000.nii.gz', 'PREDICT-05-069_0000.nii.gz', 'PREDICT-05-072_0000.nii.gz', 'PREDICT-07-002_0000.nii.gz', 'PREDICT-09-003_0000.nii.gz', 'PREDICT-09-004_0000.nii.gz', 'PREDICT-09-007_0000.nii.gz', 'PREDICT-09-018_0000.nii.gz', 'PREDICT-09-028_0000.nii.gz', 'PREDICT-09-039_0000.nii.gz', 'PREDICT-09-041_0000.nii.gz', 'PREDICT-11-002_0000.nii.gz', 'PREDICT-11-003_0000.nii.gz', 'PREDICT-11-012_0000.nii.gz', 'PREDICT-11-022_0000.nii.gz', 'PREDICT-12-005_0000.nii.gz', 'PREDICT-13-002_0000.nii.gz', 'PREDICT-13-004_0000.nii.gz']\n['PREDICT-01-070_0000.nii.gz', 'PREDICT-01-073_0000.nii.gz', 'PREDICT-01-074_0000.nii.gz', 'PREDICT-01-075_0000.nii.gz', 'PREDICT-01-079_0000.nii.gz', 'PREDICT-01-080_0000.nii.gz', 'PREDICT-01-090_0000.nii.gz', 'PREDICT-02-004_0000.nii.gz', 'PREDICT-02-006_0000.nii.gz', 'PREDICT-04-001_0000.nii.gz', 'PREDICT-04-003_0000.nii.gz', 'PREDICT-04-008_0000.nii.gz', 'PREDICT-04-009_0000.nii.gz', 'PREDICT-04-010_0000.nii.gz', 'PREDICT-04-011_0000.nii.gz', 'PREDICT-04-013_0000.nii.gz', 'PREDICT-05-007_0000.nii.gz', 'PREDICT-05-008_0000.nii.gz', 'PREDICT-05-011_0000.nii.gz', 'PREDICT-05-012_0000.nii.gz', 'PREDICT-05-013_0000.nii.gz', 'PREDICT-05-014_0000.nii.gz', 'PREDICT-05-017_0000.nii.gz', 'PREDICT-05-018_0000.nii.gz', 'PREDICT-05-019_0000.nii.gz', 'PREDICT-05-024_0000.nii.gz', 'PREDICT-05-027_0000.nii.gz', 'PREDICT-05-032_0000.nii.gz', 'PREDICT-05-034_0000.nii.gz', 'PREDICT-05-036_0000.nii.gz', 'PREDICT-05-037_0000.nii.gz', 'PREDICT-05-040_0000.nii.gz', 'PREDICT-05-041_0000.nii.gz', 'PREDICT-05-042_0000.nii.gz', 'PREDICT-05-043_0000.nii.gz', 'PREDICT-05-044_0000.nii.gz', 'PREDICT-05-046_0000.nii.gz', 'PREDICT-05-048_0000.nii.gz', 'PREDICT-05-050_0000.nii.gz', 'PREDICT-05-051_0000.nii.gz', 'PREDICT-05-052_0000.nii.gz', 'PREDICT-05-053_0000.nii.gz', 'PREDICT-05-056_0000.nii.gz', 'PREDICT-05-058_0000.nii.gz', 'PREDICT-05-060_0000.nii.gz', 'PREDICT-05-061_0000.nii.gz', 'PREDICT-05-062_0000.nii.gz', 'PREDICT-05-063_0000.nii.gz', 'PREDICT-05-064_0000.nii.gz', 'PREDICT-05-067_0000.nii.gz', 'PREDICT-05-070_0000.nii.gz', 'PREDICT-05-071_0000.nii.gz', 'PREDICT-05-073_0000.nii.gz', 'PREDICT-05-074_0000.nii.gz', 'PREDICT-05-075_0000.nii.gz', 'PREDICT-07-001_0000.nii.gz', 'PREDICT-08-002_0000.nii.gz', 'PREDICT-09-006_0000.nii.gz', 'PREDICT-09-011_0000.nii.gz', 'PREDICT-09-014_0000.nii.gz', 'PREDICT-09-022_0000.nii.gz', 'PREDICT-09-027_0000.nii.gz', 'PREDICT-09-030_0000.nii.gz', 'PREDICT-09-035_0000.nii.gz', 'PREDICT-09-036_0000.nii.gz', 'PREDICT-09-044_0000.nii.gz', 'PREDICT-10-002_0000.nii.gz', 'PREDICT-10-003_0000.nii.gz', 'PREDICT-11-001_0000.nii.gz', 'PREDICT-11-015_0000.nii.gz', 'PREDICT-11-017_0000.nii.gz', 'PREDICT-11-018_0000.nii.gz', 'PREDICT-13-003_0000.nii.gz', 'PREDICT-13-007_0000.nii.gz']\n"
    }
   ],
   "source": [
    "import os\n",
    "path_tr = 'C:\\\\Users\\\\frank\\\\OneDrive - McMaster University\\\\nnUNest_raw_data_base\\\\Task100_PREDICT\\\\imagesTr'\n",
    "path_ts = 'C:\\\\Users\\\\frank\\\\OneDrive - McMaster University\\\\nnUNest_raw_data_base\\\\Task100_PREDICT\\\\imagesTs'\n",
    "files_tr = os.listdir(path_tr)\n",
    "files_ts = os.listdir(path_ts)\n",
    "\n",
    "print(files_tr)\n",
    "print(files_ts)\n",
    "\n",
    "# for index, file in enumerate(files):\n",
    "#     os.rename(os.path.join(path, file), os.path.join(path, file.replace('-Baseline-ICH', '').replace('_', '-')))\n",
    "\n",
    "# for index, file in enumerate(files):\n",
    "#     newname = file.replace(\"_\", \"-\")\n",
    "#     newname = file.replace(\"-Baseline-.\", \".\")\n",
    "\n",
    "#     str1 = \"_0000\"\n",
    "#     os.rename(os.path.join(path, file), os.path.join(path, newname.join([\".nii.gz\"])))\n",
    "#     #os.rename(os.path.join(path, file), os.path.join(path, str1.join([os.path.splitext(os.path.splitext(newname)[0])[0], \".nii.gz\"])))"
   ]
  },
  {
   "cell_type": "code",
   "execution_count": 71,
   "metadata": {},
   "outputs": [],
   "source": [
    "json_dict = OrderedDict()\n",
    "json_dict['name'] = \"Hematoma Expansion\"\n",
    "json_dict['description'] = \"Predicting Hematoma Expansion\"\n",
    "json_dict['tensorImageSize'] = \"4D\"\n",
    "json_dict['reference'] = \"The Ottawa Hospital\"\n",
    "json_dict['licence'] = \"NA\"\n",
    "json_dict['release'] = \"0.0\"\n",
    "json_dict['modality'] = {\n",
    "     \"0\": \"CT\",\n",
    "}\n",
    "json_dict['labels'] = {\n",
    "    \"0\": \"ROI segmentation\",\n",
    "}\n",
    "json_dict['numTraining'] = len(files_tr)\n",
    "json_dict['numTest'] = len(files_ts)\n",
    "json_dict['training'] = [{'image': \"./imagesTr/%s.nii.gz\" % i.split(\"/\")[-1], \"label\": \"./labelsTr/%s.nii.gz\" % i.split(\"/\")[-1]} for i in files_tr]\n",
    "json_dict['test'] = [\"./imagesTs/%s.nii.gz\" % i.split(\"/\")[-1] for i in files_ts]\n",
    "\n",
    "with open('C:\\\\Users\\\\frank\\\\OneDrive - McMaster University\\\\nnUNest_raw_data_base\\\\Task100_PREDICT\\\\dataset.json', 'w') as outfile:\n",
    "    json.dumps(json_dict, outfile)\n",
    "\n",
    "#(json_dict, os.path.join('C:\\\\Users\\\\frank\\\\OneDrive - McMaster University\\\\nnUNest_raw_data_base\\\\Task100_PREDICT', \"dataset.json\"))"
   ]
  },
  {
   "cell_type": "code",
   "execution_count": null,
   "metadata": {},
   "outputs": [],
   "source": []
  }
 ],
 "metadata": {
  "language_info": {
   "codemirror_mode": {
    "name": "ipython",
    "version": 3
   },
   "file_extension": ".py",
   "mimetype": "text/x-python",
   "name": "python",
   "nbconvert_exporter": "python",
   "pygments_lexer": "ipython3",
   "version": "3.7.4-final"
  },
  "orig_nbformat": 2,
  "kernelspec": {
   "name": "python37464bitbaseconda557d03129e4e4f58b60d11d551485026",
   "display_name": "Python 3.7.4 64-bit ('base': conda)"
  }
 },
 "nbformat": 4,
 "nbformat_minor": 2
}