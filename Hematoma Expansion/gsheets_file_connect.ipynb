{
 "metadata": {
  "language_info": {
   "codemirror_mode": {
    "name": "ipython",
    "version": 3
   },
   "file_extension": ".py",
   "mimetype": "text/x-python",
   "name": "python",
   "nbconvert_exporter": "python",
   "pygments_lexer": "ipython3",
   "version": 3
  },
  "orig_nbformat": 2,
  "kernelspec": {
   "name": "python_defaultSpec_1596569107743",
   "display_name": "Python 3.7.4 64-bit ('base': conda)"
  }
 },
 "nbformat": 4,
 "nbformat_minor": 2,
 "cells": [
  {
   "cell_type": "code",
   "execution_count": 1,
   "metadata": {
    "tags": []
   },
   "outputs": [
    {
     "output_type": "stream",
     "name": "stdout",
     "text": "Collecting gspread\n  Downloading https://files.pythonhosted.org/packages/9c/ba/bc8de4f5077bd34bc873bdd67a89cb29c4f181abba8a836d2c6a0a142365/gspread-3.6.0-py3-none-any.whl\nCollecting oauth2client\n  Downloading https://files.pythonhosted.org/packages/95/a9/4f25a14d23f0786b64875b91784607c2277eff25d48f915e39ff0cff505a/oauth2client-4.1.3-py2.py3-none-any.whl (98kB)\nRequirement already satisfied: google-auth-oauthlib>=0.4.1 in c:\\users\\frank\\anaconda3\\lib\\site-packages (from gspread) (0.4.1)\nRequirement already satisfied: google-auth>=1.12.0 in c:\\users\\frank\\anaconda3\\lib\\site-packages (from gspread) (1.14.1)\nRequirement already satisfied: requests>=2.2.1 in c:\\users\\frank\\anaconda3\\lib\\site-packages (from gspread) (2.22.0)\nRequirement already satisfied: rsa>=3.1.4 in c:\\users\\frank\\anaconda3\\lib\\site-packages (from oauth2client) (4.0)\nRequirement already satisfied: six>=1.6.1 in c:\\users\\frank\\anaconda3\\lib\\site-packages (from oauth2client) (1.12.0)\nRequirement already satisfied: pyasn1>=0.1.7 in c:\\users\\frank\\anaconda3\\lib\\site-packages (from oauth2client) (0.4.8)\nCollecting httplib2>=0.9.1 (from oauth2client)\n  Downloading https://files.pythonhosted.org/packages/b3/ad/d9d9331850ea5bd4f5cb8c650c0bfa119a4abd6b0ad7c45b6506bc979fc0/httplib2-0.18.1-py3-none-any.whl (95kB)\nRequirement already satisfied: pyasn1-modules>=0.0.5 in c:\\users\\frank\\anaconda3\\lib\\site-packages (from oauth2client) (0.2.7)\nRequirement already satisfied: requests-oauthlib>=0.7.0 in c:\\users\\frank\\anaconda3\\lib\\site-packages (from google-auth-oauthlib>=0.4.1->gspread) (1.3.0)\nRequirement already satisfied: cachetools<5.0,>=2.0.0 in c:\\users\\frank\\anaconda3\\lib\\site-packages (from google-auth>=1.12.0->gspread) (4.1.0)\nRequirement already satisfied: setuptools>=40.3.0 in c:\\users\\frank\\anaconda3\\lib\\site-packages (from google-auth>=1.12.0->gspread) (41.4.0)\nRequirement already satisfied: urllib3!=1.25.0,!=1.25.1,<1.26,>=1.21.1 in c:\\users\\frank\\anaconda3\\lib\\site-packages (from requests>=2.2.1->gspread) (1.24.2)\nRequirement already satisfied: idna<2.9,>=2.5 in c:\\users\\frank\\anaconda3\\lib\\site-packages (from requests>=2.2.1->gspread) (2.8)\nRequirement already satisfied: chardet<3.1.0,>=3.0.2 in c:\\users\\frank\\anaconda3\\lib\\site-packages (from requests>=2.2.1->gspread) (3.0.4)\nRequirement already satisfied: certifi>=2017.4.17 in c:\\users\\frank\\anaconda3\\lib\\site-packages (from requests>=2.2.1->gspread) (2019.9.11)\nRequirement already satisfied: oauthlib>=3.0.0 in c:\\users\\frank\\anaconda3\\lib\\site-packages (from requests-oauthlib>=0.7.0->google-auth-oauthlib>=0.4.1->gspread) (3.1.0)\nInstalling collected packages: gspread, httplib2, oauth2client\nSuccessfully installed gspread-3.6.0 httplib2-0.18.1 oauth2client-4.1.3\nNote: you may need to restart the kernel to use updated packages.\n"
    }
   ],
   "source": [
    "pip install gspread oauth2client"
   ]
  },
  {
   "cell_type": "code",
   "execution_count": 27,
   "metadata": {},
   "outputs": [],
   "source": [
    "import gspread\n",
    "from oauth2client.service_account import ServiceAccountCredentials\n",
    "from gspread.models import Cell"
   ]
  },
  {
   "cell_type": "code",
   "execution_count": 31,
   "metadata": {
    "tags": []
   },
   "outputs": [
    {
     "output_type": "execute_result",
     "data": {
      "text/plain": "{'spreadsheetId': '1p9AY9OeiELlyhE_KZgHhzB9xxQ7VHlhBhE6lehUKXug',\n 'updatedRange': \"'PREDICT nnUNet Tracing Review'!A1:A78\",\n 'updatedRows': 78,\n 'updatedColumns': 1,\n 'updatedCells': 78}"
     },
     "metadata": {},
     "execution_count": 31
    }
   ],
   "source": [
    "path_test = \"C:\\\\Users\\\\frank\\\\Downloads\\\\AvivLab\\\\nnUNest_raw_data_base\\\\Task100_PREDICT\\\\labelsTs\"\n",
    "files = os.listdir(\"C:\\\\Users\\\\frank\\\\Downloads\\\\AvivLab\\\\nnUNest_raw_data_base\\\\Task100_PREDICT\\\\labelsTs\")\n",
    "\n",
    "scope = [\"https://spreadsheets.google.com/feeds\", 'https://www.googleapis.com/auth/drive']\n",
    "creds = ServiceAccountCredentials.from_json_keyfile_name('toh-nii-file-sorting-a534febad383.json', scope)\n",
    "client = gspread.authorize(creds)\n",
    "\n",
    "sheet = client.open(\"PREDICT_SPOTLIGHT_STOPIT\").sheet1\n",
    "results = sheet.get_all_records()\n",
    "\n",
    "length = len(files)\n",
    "cells = []\n",
    "\n",
    "for i in range(length):\n",
    "    cells.append(Cell(row=i+1, col=1, value=files[i]))\n",
    "\n",
    "sheet.update_cells(cells)"
   ]
  },
  {
   "cell_type": "code",
   "execution_count": null,
   "metadata": {},
   "outputs": [],
   "source": []
  }
 ]
}