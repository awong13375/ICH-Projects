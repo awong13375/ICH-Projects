{
 "cells": [
  {
   "cell_type": "code",
   "execution_count": 1,
   "metadata": {
    "tags": []
   },
   "outputs": [
    {
     "output_type": "stream",
     "name": "stdout",
     "text": "Collecting SimpleITK\n  Downloading SimpleITK-1.2.4-cp38-cp38-win32.whl (14.6 MB)\nInstalling collected packages: SimpleITK\nSuccessfully installed SimpleITK-1.2.4\nNote: you may need to restart the kernel to use updated packages.\n"
    }
   ],
   "source": [
    "pip install SimpleITK"
   ]
  },
  {
   "cell_type": "code",
   "execution_count": 8,
   "metadata": {},
   "outputs": [],
   "source": [
    "import numpy as np\n",
    "import os, shutil\n",
    "import ntpath\n",
    "import sys\n",
    "import subprocess\n",
    "from shutil import copyfile\n",
    "import SimpleITK as sitk\n",
    "import time"
   ]
  },
  {
   "cell_type": "code",
   "execution_count": 4,
   "metadata": {},
   "outputs": [],
   "source": [
    "def ensure_file(file_path):\n",
    "\texists = os.path.isfile(file_path)\n",
    "\tif exists:\n",
    "\t    return True\n",
    "\telse:\n",
    "\t\treturn False\n",
    "\n",
    "def ensure_dir(file_path):\n",
    "    #directory = os.path.dirname(file_path)\n",
    "    directory = file_path\n",
    "    #print(directory)\n",
    "    if os.path.exists(directory):\n",
    "       return True\n",
    "       #os.makedirs(directory)\n",
    "    else:\n",
    "    \treturn False\n",
    "\n",
    "def convert_dcm_nii(dcm_folder,output_fold,output_name):\n",
    "\treader = sitk.ImageSeriesReader()\n",
    "\tdicom_names = reader.GetGDCMSeriesFileNames(dcm_folder)\n",
    "\treader.SetFileNames(dicom_names)\n",
    "\timage = reader.Execute()\n",
    "\tsize = image.GetSize()\n",
    "\tprint( \"NII Image size:\", size[0], size[1], size[2])\n",
    "\t##ensure_dir(y+z)\n",
    "    \n",
    "\tsitk.WriteImage(image, output_fold+output_name+\".nii\")\n",
    "\t#dcm_txt_file.write(output_name+\".nii\\n\")\n",
    "\tprint(output_name+\".nii\")\n",
    "\n",
    "def raw_to_nii(filename,output_name):\n",
    "\t#output_fold = \"D:\\\\Google Drive\\\\PREDICTpy\\\\SPOTLIGHT_ROI\\\\mhd\\\\\"\n",
    "\timage = sitk.ReadImage(filename)\n",
    "\t#sitk.WriteImage(image, output_fold+output_name+\".nii\") \n",
    "\n",
    "def concat(path, path2, output_fold):\n",
    "\tsl1_img = nib.load(path)\n",
    "\tsl2_img = nib.load(path2)\n",
    "\tsl1_img_np = sl1_img.get_fdata()\n",
    "\tsl2_img_np = sl2_img.get_fdata()\n",
    "\tprint(\"SL1: \" + str(sl1_img_np.shape))\n",
    "\tprint(\"SL2: \" + str(sl2_img_np.shape))\n",
    "\tsl3 = np.concatenate([sl1_img_np, sl2_img_np], -1)\n",
    "\tni_img = nib.Nifti1Image(sl3, np.eye(4))\n",
    "\tprint(\"SL3: \" + str(sl3.shape) + \"\\n\")\n",
    "\n",
    "\tnib.save(ni_img, output_fold)\n"
   ]
  },
  {
   "cell_type": "code",
   "execution_count": 10,
   "metadata": {
    "tags": []
   },
   "outputs": [
    {
     "output_type": "error",
     "ename": "SyntaxError",
     "evalue": "invalid syntax (<ipython-input-10-79da1f6f1625>, line 1)",
     "traceback": [
      "\u001b[1;36m  File \u001b[1;32m\"<ipython-input-10-79da1f6f1625>\"\u001b[1;36m, line \u001b[1;32m1\u001b[0m\n\u001b[1;33m    print(np.shape[])\u001b[0m\n\u001b[1;37m                   ^\u001b[0m\n\u001b[1;31mSyntaxError\u001b[0m\u001b[1;31m:\u001b[0m invalid syntax\n"
     ]
    }
   ],
   "source": [
    "convert_dcm_nii(\"C:/Users/frank/OneDrive - McMaster University/PREDICT - DICOM/Site 11/PREDICT_11-017/series3\", \"C:/Users/frank/OneDrive - McMaster University/PREDICT - NII/Site_11\", \"PREDICT_11-017_3\")\n",
    "\n",
    "# for i in range(9):\n",
    "#     if i <= 9:\n",
    "#         path = \"C:/Users/frank/OneDrive - McMaster University/SPOTLIGHT - DICOM/018-0002\" + str(i) + \"/series\"\n",
    "#         if ensure_dir(path):\n",
    "#             convert_dcm_nii(path, \"C:/Users/frank/OneDrive - McMaster University/SPOTLIGHT - NII\", \"SPOTLIGHT-002-0008-1-Baseline.nii\" + str(i))\n",
    "#     elif i > 9 and i < 100:\n",
    "#         path = \"D:/PREDICT/Baseline/PREDICT_11-0\" + str(i) + \"/series\"\n",
    "#         if ensure_dir(path):\n",
    "#             convert_dcm_nii(path, \"D:/PREDICT/test/\", \"PREDICT_11-0\" + str(i))\n",
    "#     else:\n",
    "#         path = \"D:/PREDICT/Baseline/PREDICT_11-\" + str(i) + \"/series\"\n",
    "#         if ensure_dir(path):\n",
    "#             convert_dcm_nii(path, \"D:/PREDICT/test/\", \"PREDICT_11-\" + str(i))"
   ]
  },
  {
   "cell_type": "code",
   "execution_count": 6,
   "metadata": {
    "tags": []
   },
   "outputs": [
    {
     "output_type": "stream",
     "name": "stdout",
     "text": "Requirement already satisfied: nibabel in c:\\users\\frank\\anaconda3\\envs\\igem\\lib\\site-packages (3.1.0)\nRequirement already satisfied: numpy>=1.13 in c:\\users\\frank\\anaconda3\\envs\\igem\\lib\\site-packages (from nibabel) (1.18.1)\nRequirement already satisfied: packaging>=14.3 in c:\\users\\frank\\anaconda3\\envs\\igem\\lib\\site-packages (from nibabel) (20.4)Note: you may need to restart the kernel to use updated packages.\n\nRequirement already satisfied: six in c:\\users\\frank\\anaconda3\\envs\\igem\\lib\\site-packages (from packaging>=14.3->nibabel) (1.14.0)\nRequirement already satisfied: pyparsing>=2.0.2 in c:\\users\\frank\\anaconda3\\envs\\igem\\lib\\site-packages (from packaging>=14.3->nibabel) (2.4.6)\n"
    }
   ],
   "source": [
    "pip install nibabel"
   ]
  },
  {
   "cell_type": "code",
   "execution_count": 7,
   "metadata": {},
   "outputs": [],
   "source": [
    "import nibabel as nib\n",
    "import numpy as np"
   ]
  },
  {
   "cell_type": "code",
   "execution_count": 14,
   "metadata": {
    "tags": []
   },
   "outputs": [
    {
     "output_type": "stream",
     "name": "stdout",
     "text": "SL1: (512, 512, 12)\nSL2: (512, 512, 13)\nSL3: (512, 512, 25)\n\n"
    }
   ],
   "source": [
    "concat(\"C:/Users/frank/OneDrive - McMaster University/PREDICT - NII/Site_11/CTA/PREDICT_11-017.nii\", \"C:/Users/frank/OneDrive - McMaster University/PREDICT - NII/Site_11/CTA/Site_11PREDICT_11-017_3.nii\", 'C:/Users/frank/OneDrive - McMaster University/PREDICT - NII/Site_11/PREDICT_11-017.nii')\n",
    "\n",
    "# for i in range(76):\n",
    "#     if i <= 9:\n",
    "#         path = \"D:/PREDICT/NII/Site_5/PREDICT_05-00\" + str(i) + \".nii\"\n",
    "#         path2 = \"D:/PREDICT/NII/Site_5/PREDICT_05-00\" + str(i) + \"_2.nii\"\n",
    "#         print(path + \"\\n\" + path2)\n",
    "#         if ensure_dir(path) and ensure_dir(path2):\n",
    "#             print(\"yes\")\n",
    "#             concat(path, path2, 'D:/PREDICT/test/PREDICT_05-00' + str(i))\n",
    "#     else:\n",
    "#         path = \"D:/PREDICT/NII/Site_5/PREDICT_05-0\" + str(i) + \".nii\"\n",
    "#         path2 = \"D:/PREDICT/NII/Site_5/PREDICT_05-0\" + str(i) + \"_2.nii\"\n",
    "#         if ensure_dir(path) and ensure_dir(path2):\n",
    "#             concat(path, path2, 'D:/PREDICT/test/PREDICT_05-0' + str(i))"
   ]
  },
  {
   "cell_type": "code",
   "execution_count": null,
   "metadata": {},
   "outputs": [],
   "source": []
  }
 ],
 "metadata": {
  "language_info": {
   "codemirror_mode": {
    "name": "ipython",
    "version": 3
   },
   "file_extension": ".py",
   "mimetype": "text/x-python",
   "name": "python",
   "nbconvert_exporter": "python",
   "pygments_lexer": "ipython3",
   "version": "3.7.4-final"
  },
  "orig_nbformat": 2,
  "kernelspec": {
   "name": "python3",
   "display_name": "Python 3"
  }
 },
 "nbformat": 4,
 "nbformat_minor": 2
}